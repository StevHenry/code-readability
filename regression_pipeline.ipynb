{
 "cells": [
  {
   "cell_type": "code",
   "execution_count": 2,
   "metadata": {},
   "outputs": [
    {
     "ename": "ModuleNotFoundError",
     "evalue": "No module named 'create_dataset'",
     "output_type": "error",
     "traceback": [
      "\u001b[1;31m---------------------------------------------------------------------------\u001b[0m",
      "\u001b[1;31mModuleNotFoundError\u001b[0m                       Traceback (most recent call last)",
      "\u001b[1;32mc:\\Users\\hp\\OneDrive\\Desktop\\stats\\code-readability\\regression_pipeline.ipynb Cell 1\u001b[0m in \u001b[0;36m<cell line: 10>\u001b[1;34m()\u001b[0m\n\u001b[0;32m      <a href='vscode-notebook-cell:/c%3A/Users/hp/OneDrive/Desktop/stats/code-readability/regression_pipeline.ipynb#W0sZmlsZQ%3D%3D?line=7'>8</a>\u001b[0m \u001b[39mimport\u001b[39;00m \u001b[39mseaborn\u001b[39;00m \u001b[39mas\u001b[39;00m \u001b[39msns\u001b[39;00m\n\u001b[0;32m      <a href='vscode-notebook-cell:/c%3A/Users/hp/OneDrive/Desktop/stats/code-readability/regression_pipeline.ipynb#W0sZmlsZQ%3D%3D?line=8'>9</a>\u001b[0m \u001b[39mimport\u001b[39;00m \u001b[39mmatplotlib\u001b[39;00m\u001b[39m.\u001b[39;00m\u001b[39mpyplot\u001b[39;00m \u001b[39mas\u001b[39;00m \u001b[39mplt\u001b[39;00m\n\u001b[1;32m---> <a href='vscode-notebook-cell:/c%3A/Users/hp/OneDrive/Desktop/stats/code-readability/regression_pipeline.ipynb#W0sZmlsZQ%3D%3D?line=9'>10</a>\u001b[0m \u001b[39mfrom\u001b[39;00m \u001b[39mcreate_dataset\u001b[39;00m \u001b[39mimport\u001b[39;00m create_bunch\n",
      "\u001b[1;31mModuleNotFoundError\u001b[0m: No module named 'create_dataset'"
     ]
    }
   ],
   "source": [
    "from sklearn.model_selection import train_test_split\n",
    "from sklearn.linear_model import LinearRegression\n",
    "from sklearn.ensemble import RandomForestRegressor\n",
    "from sklearn.tree import DecisionTreeRegressor\n",
    "from sklearn.metrics import mean_squared_error\n",
    "from sklearn.model_selection import cross_val_score, KFold\n",
    "import numpy as np\n",
    "import pandas as pd\n",
    "import seaborn as sns\n",
    "import matplotlib.pyplot as plt\n",
    "from create_dataset import create_bunch"
   ]
  },
  {
   "cell_type": "markdown",
   "metadata": {},
   "source": [
    "## datasets "
   ]
  },
  {
   "cell_type": "code",
   "execution_count": null,
   "metadata": {},
   "outputs": [
    {
     "name": "stdout",
     "output_type": "stream",
     "text": [
      "Keys of code metrics  Dataset: dict_keys(['data', 'target', 'feature_names', 'DESCR'])\n"
     ]
    }
   ],
   "source": [
    "# Load the Boston Housing dataset\n",
    "code_metrics = create_bunch()\n",
    "\n",
    "print(f\"Keys of code metrics  Dataset: {code_metrics.keys()}\")\n",
    "# Split the dataset into training and testing sets\n",
    "X_train, X_test, y_train, y_test = train_test_split(code_metrics.data, code_metrics.target, test_size=0.2, random_state=12345)\n"
   ]
  },
  {
   "cell_type": "code",
   "execution_count": null,
   "metadata": {},
   "outputs": [
    {
     "data": {
      "text/plain": [
       "array([[15.        ,  0.        , 30.5625    , ...,  0.        ,\n",
       "         1.        ,  3.        ],\n",
       "       [29.        ,  0.        , 45.        , ...,  0.        ,\n",
       "         4.        ,  3.        ],\n",
       "       [32.        ,  0.        , 53.81818182, ...,  0.        ,\n",
       "         1.        ,  2.        ],\n",
       "       ...,\n",
       "       [30.        ,  1.        , 45.19230769, ...,  2.        ,\n",
       "         2.        ,  2.        ],\n",
       "       [10.        ,  1.        , 47.        , ...,  2.        ,\n",
       "         1.        ,  3.        ],\n",
       "       [10.        ,  0.        , 39.375     , ...,  2.        ,\n",
       "         1.        ,  0.        ]])"
      ]
     },
     "execution_count": 3,
     "metadata": {},
     "output_type": "execute_result"
    }
   ],
   "source": [
    "code_metrics.data"
   ]
  },
  {
   "cell_type": "code",
   "execution_count": null,
   "metadata": {},
   "outputs": [
    {
     "data": {
      "text/plain": [
       "array([4.22222222, 3.55555556, 3.55555556, 4.33333333, 4.        ,\n",
       "       4.55555556, 3.        , 3.11111111, 3.77777778, 3.22222222,\n",
       "       4.        , 3.33333333, 3.55555556, 3.55555556, 2.66666667,\n",
       "       4.44444444, 3.66666667, 4.        , 4.        , 3.88888889,\n",
       "       4.        , 4.55555556, 3.22222222, 3.66666667, 4.22222222,\n",
       "       3.22222222, 3.77777778, 2.33333333, 3.66666667, 3.44444444,\n",
       "       3.22222222, 4.33333333, 4.        , 2.55555556, 4.22222222,\n",
       "       2.22222222, 3.77777778, 4.22222222, 4.77777778, 4.22222222,\n",
       "       4.11111111, 4.66666667, 2.88888889, 4.        , 4.33333333,\n",
       "       3.33333333, 3.66666667, 4.11111111, 2.77777778, 3.11111111,\n",
       "       3.44444444, 4.        , 4.22222222, 4.11111111, 4.22222222,\n",
       "       3.33333333, 3.55555556, 3.55555556, 3.77777778, 3.88888889,\n",
       "       3.88888889, 3.33333333, 4.        , 3.88888889, 4.55555556,\n",
       "       3.44444444, 4.66666667, 2.88888889, 3.        , 3.22222222,\n",
       "       3.55555556, 3.22222222, 4.55555556, 1.88888889, 3.88888889,\n",
       "       4.44444444, 4.44444444, 3.77777778, 4.33333333, 3.66666667,\n",
       "       4.33333333, 3.77777778, 3.44444444, 2.88888889, 3.88888889,\n",
       "       4.        , 3.22222222, 3.66666667, 2.88888889, 3.66666667,\n",
       "       4.22222222, 4.55555556, 3.66666667, 3.22222222, 3.88888889,\n",
       "       3.11111111, 2.77777778, 3.        , 3.22222222, 3.66666667,\n",
       "       3.33333333, 3.33333333, 3.88888889, 3.88888889, 3.88888889,\n",
       "       3.55555556, 3.88888889, 3.33333333, 3.        , 3.55555556,\n",
       "       3.        , 3.88888889, 4.11111111, 4.66666667, 3.33333333,\n",
       "       3.55555556, 3.55555556, 3.88888889, 4.11111111, 3.88888889,\n",
       "       3.33333333, 3.22222222, 4.66666667, 3.22222222, 2.88888889,\n",
       "       3.11111111, 2.77777778, 3.33333333, 4.11111111, 3.22222222,\n",
       "       3.33333333, 2.88888889, 4.55555556, 3.77777778, 2.66666667,\n",
       "       3.66666667, 3.        , 3.77777778, 4.11111111, 2.44444444,\n",
       "       4.33333333, 3.11111111, 3.33333333, 4.88888889, 3.88888889,\n",
       "       2.77777778, 3.44444444, 3.        , 2.88888889, 4.77777778,\n",
       "       4.55555556, 4.11111111, 4.33333333, 3.        , 2.88888889,\n",
       "       3.22222222, 2.55555556, 2.66666667, 3.66666667, 4.33333333,\n",
       "       3.55555556, 2.66666667, 2.88888889, 4.22222222, 4.33333333,\n",
       "       3.66666667, 2.77777778, 4.55555556, 4.22222222, 3.11111111,\n",
       "       3.88888889, 3.66666667, 2.77777778, 3.44444444, 4.        ,\n",
       "       3.55555556, 2.88888889, 3.22222222, 3.22222222, 2.33333333,\n",
       "       2.55555556, 3.33333333, 3.55555556, 4.22222222, 3.88888889,\n",
       "       3.55555556, 4.44444444, 3.88888889, 3.55555556, 3.77777778,\n",
       "       4.44444444, 3.11111111, 3.77777778, 3.11111111, 3.33333333,\n",
       "       2.55555556, 3.        , 3.        , 3.66666667, 3.22222222,\n",
       "       2.99166667, 3.74166667, 2.69166667, 4.025     , 4.18333333,\n",
       "       2.18333333, 3.625     , 2.85833333, 4.13333333, 3.35      ,\n",
       "       3.64166667, 3.53333333, 3.03333333, 4.05      , 1.81666667,\n",
       "       2.9       , 3.74166667, 2.45833333, 3.55833333, 3.25833333,\n",
       "       3.73333333, 2.725     , 3.94166667, 3.475     , 2.09166667,\n",
       "       2.36666667, 3.75833333, 2.85833333, 3.95833333, 2.78333333,\n",
       "       3.26666667, 4.225     , 4.01666667, 4.35      , 2.        ,\n",
       "       2.525     , 2.56666667, 2.76666667, 2.95833333, 2.9       ,\n",
       "       2.40833333, 3.075     , 3.28333333, 4.06666667, 3.84166667,\n",
       "       3.75833333, 3.875     , 3.93333333, 4.05      , 4.15833333,\n",
       "       3.91666667, 2.63333333, 2.71666667, 3.6       , 2.70833333,\n",
       "       3.60833333, 3.6       , 2.4       , 3.825     , 3.88333333,\n",
       "       3.775     , 3.46666667, 2.64166667, 3.59166667, 3.2       ,\n",
       "       2.59166667, 4.01666667, 3.35      , 2.91666667, 2.39166667,\n",
       "       3.69166667, 2.85833333, 3.375     , 3.81666667, 3.39166667,\n",
       "       3.49166667, 2.71666667, 2.28333333, 3.34166667, 4.15      ,\n",
       "       3.93333333, 4.        , 2.75833333, 3.94166667, 3.60833333,\n",
       "       2.625     , 2.86666667, 3.225     , 4.28333333, 3.35      ,\n",
       "       2.075     , 3.35833333, 2.35833333, 4.06666667, 3.18333333,\n",
       "       3.80833333, 2.9       , 3.        , 2.95      , 2.125     ,\n",
       "       2.45957447, 2.46086957, 2.94347826, 2.54222222, 3.75336323,\n",
       "       3.52888889, 2.25751073, 2.692     , 4.05343511, 3.33070866,\n",
       "       2.37549407, 2.23651452, 3.1125    , 3.46753247, 3.03240741,\n",
       "       3.05627706, 1.71900826, 3.24590164, 3.06557377, 3.68442623,\n",
       "       2.28968254, 3.31086142, 3.30165289, 2.49590164, 1.26254826,\n",
       "       1.83458647, 3.59073359, 3.28244275, 3.45748988, 2.96062992,\n",
       "       2.3011583 , 3.64705882, 2.3828125 , 2.6091954 , 2.16532258,\n",
       "       2.65098039, 2.75984252, 3.25531915, 1.71008403, 3.60493827,\n",
       "       4.072     , 4.04471545, 2.93305439, 2.5862069 , 3.00442478,\n",
       "       2.64049587, 2.65158371, 1.975     , 2.94605809, 3.21052632,\n",
       "       1.73279352, 2.50413223, 3.5785124 , 2.6352459 , 3.1092437 ,\n",
       "       2.09205021, 2.125     , 3.46031746, 2.23018868, 3.02150538,\n",
       "       3.41269841, 2.79781421, 3.58115183, 2.4       , 2.1025641 ,\n",
       "       3.92227979, 2.57671958, 2.29842932, 3.38461538, 1.70212766,\n",
       "       3.6       , 2.75722543, 2.125     , 3.19512195, 3.30857143,\n",
       "       2.57058824, 3.27439024, 3.10059172, 1.70621469, 2.46783626,\n",
       "       3.01149425, 2.62921348, 2.40437158, 3.03061224, 1.95238095,\n",
       "       3.00518135, 2.80107527, 2.75135135, 3.94117647, 2.14705882,\n",
       "       3.86309524, 3.4973262 , 1.96296296, 1.8972973 , 3.01036269,\n",
       "       3.11      , 3.73232323, 2.92592593, 2.01041667, 3.20634921,\n",
       "       3.07526882, 2.99435028, 2.81764706, 2.60451977, 2.94152047,\n",
       "       2.86705202, 3.47701149, 4.15819209, 1.64088398, 4.15656566,\n",
       "       2.19689119, 3.4120603 , 2.53367876, 2.86243386, 2.00510204,\n",
       "       2.06153846, 3.75      , 2.96373057, 2.38547486, 3.45212766,\n",
       "       3.54183267, 3.23404255, 3.08035714, 3.63247863, 3.54347826,\n",
       "       2.93665158, 3.03982301, 3.71369295, 3.99227799, 3.32142857,\n",
       "       3.46586345, 3.74089069, 3.17372881, 3.45679012, 3.40425532,\n",
       "       3.12903226, 2.04587156, 3.05462185, 3.32128514, 3.2231405 ,\n",
       "       3.17142857, 3.93548387, 3.86507937, 3.01185771, 3.66115702,\n",
       "       3.47580645, 3.12195122, 4.148     , 3.1875    , 4.171875  ,\n",
       "       3.2519084 , 3.70566038, 2.76494024, 3.87937743, 2.87804878,\n",
       "       4.12757202, 3.40163934, 3.07112971, 3.57429719, 3.20779221,\n",
       "       3.53191489, 3.38362069, 2.77826087, 1.99141631, 3.22978723,\n",
       "       3.43965517, 3.65350877, 2.48275862, 3.10121457, 3.6064257 ,\n",
       "       2.79919679, 2.26748971, 3.39583333, 3.54320988, 3.53149606,\n",
       "       3.40163934, 2.67634855, 3.724     , 3.68699187, 3.93442623,\n",
       "       3.28063241, 2.61202186, 4.02150538, 2.74742268, 2.75132275,\n",
       "       3.38251366, 2.76470588, 3.83068783, 3.72772277, 3.4507772 ,\n",
       "       3.59375   , 3.49230769, 2.58510638, 3.51020408, 3.32777778,\n",
       "       3.82122905, 3.31547619, 3.26946108, 3.56069364, 2.81871345,\n",
       "       3.35185185, 3.6809816 , 3.30674847, 3.80120482, 3.33888889,\n",
       "       2.79096045, 2.91620112, 3.33727811, 3.9076087 , 3.73298429,\n",
       "       3.70967742, 3.44      , 2.96045198, 2.76331361, 3.12777778,\n",
       "       3.48333333, 3.38297872, 2.44680851, 3.78010471, 3.735     ,\n",
       "       3.07537688, 3.47959184, 3.51595745, 2.80645161, 3.01604278,\n",
       "       3.16666667, 4.18918919, 4.13684211, 3.5026738 , 2.76502732,\n",
       "       3.56994819, 3.74519231, 3.97183099, 3.1372549 , 3.145     ,\n",
       "       4.24378109, 3.10204082, 3.35353535, 3.34574468, 3.16022099,\n",
       "       3.95628415, 3.3487395 , 3.50847458, 3.65789474, 3.48181818,\n",
       "       3.35135135, 3.91880342, 2.86111111, 2.97358491, 3.37804878,\n",
       "       3.67634855, 3.96566524, 4.14468085, 3.93693694, 3.39130435,\n",
       "       3.37777778, 4.16143498, 3.1036036 , 3.40358744, 3.74222222,\n",
       "       2.75095785, 3.00401606, 4.40392157, 4.20408163, 2.92592593,\n",
       "       3.60833333, 3.45      , 3.43700787, 4.15830116, 3.55421687,\n",
       "       3.00384615, 4.09677419, 3.2398374 , 3.72384937, 3.33864542,\n",
       "       4.05349794, 3.01694915, 3.01293103, 3.31277533, 3.25431034,\n",
       "       4.1754386 , 3.56066946, 3.79661017, 3.83333333, 2.41880342,\n",
       "       3.94092827, 3.82008368, 3.61065574, 3.87551867, 3.9795082 ,\n",
       "       3.69262295, 3.22821577, 3.64556962, 3.94285714, 3.71982759,\n",
       "       2.63445378, 3.78540773, 3.34567901, 3.7250996 , 3.62195122,\n",
       "       3.69421488, 3.86631016, 3.73743017, 3.48404255, 4.07567568,\n",
       "       3.38043478, 3.49197861, 3.79365079, 4.17277487, 3.62637363,\n",
       "       3.89385475, 3.33333333, 2.94117647, 3.16071429, 3.35119048,\n",
       "       3.36206897, 3.8       , 3.07453416, 3.33742331, 3.39884393,\n",
       "       3.07222222, 3.46153846, 3.12716763, 3.93121693, 3.81914894,\n",
       "       3.62631579, 2.75956284, 4.27894737, 3.80874317, 4.11229947,\n",
       "       3.98850575, 3.41317365, 3.5147929 , 4.16393443, 3.54696133,\n",
       "       3.44162437, 3.11229947, 3.51912568, 4.11282051, 3.61538462,\n",
       "       2.97524752, 2.87244898, 3.89447236, 3.79591837, 4.29946524,\n",
       "       2.29189189, 3.4171123 , 2.56804734, 3.63583815, 4.20454545,\n",
       "       3.65142857, 2.84      , 2.88235294, 3.38172043, 3.75789474,\n",
       "       3.81958763, 3.33990148, 3.97474747, 3.51256281, 3.35135135])"
      ]
     },
     "execution_count": 4,
     "metadata": {},
     "output_type": "execute_result"
    }
   ],
   "source": [
    "code_metrics.target"
   ]
  },
  {
   "cell_type": "code",
   "execution_count": null,
   "metadata": {},
   "outputs": [
    {
     "data": {
      "text/plain": [
       "array(['number of lines', 'number of Loops', 'Lines length mean',\n",
       "       'Lines length max', 'comments line per code line',\n",
       "       'Proportion of Blank Lines', 'Identifiers length (characters)',\n",
       "       'Max streak of opening parentheses before a closing one',\n",
       "       'Max streak periods'], dtype='<U54')"
      ]
     },
     "execution_count": 5,
     "metadata": {},
     "output_type": "execute_result"
    }
   ],
   "source": [
    "code_metrics.feature_names"
   ]
  },
  {
   "attachments": {},
   "cell_type": "markdown",
   "metadata": {},
   "source": [
    "## Decision Tree \n"
   ]
  },
  {
   "cell_type": "code",
   "execution_count": null,
   "metadata": {},
   "outputs": [],
   "source": [
    "# Decision Tree Regressor\n",
    "reg_dt = DecisionTreeRegressor(random_state=12345)\n",
    "reg_dt.fit(X_train, y_train)\n",
    "y_pred_dt = reg_dt.predict(X_test)\n",
    "mse_dt = mean_squared_error(y_test, y_pred_dt)\n",
    "\n",
    "# Perform cross-validation\n",
    "kfold = KFold(n_splits=10, shuffle=True, random_state=12345)\n",
    "cv_scores_dt = cross_val_score(reg_dt, X_train, y_train, cv=kfold, scoring='neg_mean_squared_error')\n",
    "\n",
    "# Calculate the mean squared error\n",
    "mse = np.mean(cv_scores_dt)\n",
    "\n",
    "# Print the results\n",
    "print(\"Decision Tree cross-validation mean squared error: {:.3f}\".format(mse))\n",
    "print(\"Decision Tree Regressor MSE: {:.3f}\".format(mse_dt))\n",
    "print(cv_scores_dt)"
   ]
  },
  {
   "cell_type": "code",
   "execution_count": null,
   "metadata": {},
   "outputs": [],
   "source": [
    "importance_DT = reg_dt.feature_importances_\n",
    "# Create a barplot of feature importances\n",
    "sns.barplot(x=importance_DT, y=code_metrics.feature_names)\n",
    "\n",
    "# Add labels and title\n",
    "plt.xlabel('Feature Importance Score')\n",
    "plt.ylabel('Features')\n",
    "plt.title(\"Visualizing Important Features\")\n",
    "plt.show()"
   ]
  },
  {
   "cell_type": "markdown",
   "metadata": {},
   "source": [
    "## Random Forest "
   ]
  },
  {
   "cell_type": "code",
   "execution_count": null,
   "metadata": {},
   "outputs": [
    {
     "name": "stdout",
     "output_type": "stream",
     "text": [
      "Random Forest cross-validation mean squared error: 0.243\n",
      "Random Forest Regressor MSE: 0.221\n",
      "[-0.27992398 -0.21983287 -0.21323181 -0.27673861 -0.22577624]\n"
     ]
    }
   ],
   "source": [
    "# Random Forest Regressor\n",
    "reg_rf = RandomForestRegressor(n_estimators=100, random_state=12345)\n",
    "reg_rf.fit(X_train, y_train)\n",
    "y_pred_rf = reg_rf.predict(X_test)\n",
    "mse_rf = mean_squared_error(y_test, y_pred_rf)\n",
    "\n",
    "# Perform cross-validation\n",
    "kfold = KFold(n_splits=10, shuffle=True, random_state=12345)\n",
    "cv_scores_rf = cross_val_score(reg_rf, X_train, y_train, cv=kfold, scoring='mean_squared_error')\n",
    "\n",
    "# Calculate the mean squared error\n",
    "mse = -np.mean(cv_scores_rf)\n",
    "\n",
    "# Print the results\n",
    "print(\"Random Forest cross-validation mean squared error: {:.3f}\".format(mse))\n",
    "print(\"Random Forest Regressor MSE: {:.3f}\".format(mse_rf))\n",
    "print(cv_scores_rf)"
   ]
  },
  {
   "cell_type": "code",
   "execution_count": null,
   "metadata": {},
   "outputs": [
    {
     "data": {
      "image/png": "[encoded data removed]",
      "text/plain": [
       "<Figure size 432x288 with 1 Axes>"
      ]
     },
     "metadata": {
      "needs_background": "light"
     },
     "output_type": "display_data"
    }
   ],
   "source": [
    "importance_RF = reg_rf.feature_importances_\n",
    "# Create a barplot of feature importances\n",
    "sns.barplot(x=importance_RF, y=code_metrics.feature_names)\n",
    "\n",
    "# Add labels and title\n",
    "plt.xlabel('Feature Importance Score')\n",
    "plt.ylabel('Features')\n",
    "plt.title(\"Visualizing Important Features\")\n",
    "plt.show()"
   ]
  },
  {
   "cell_type": "markdown",
   "metadata": {},
   "source": [
    "## Linear Regression"
   ]
  },
  {
   "cell_type": "code",
   "execution_count": null,
   "metadata": {},
   "outputs": [
    {
     "name": "stdout",
     "output_type": "stream",
     "text": [
      "Linear Regression cross-validation mean squared error: 0.314\n",
      "Linear Regression mean squared error: 0.286\n"
     ]
    }
   ],
   "source": [
    "# Initialize the model\n",
    "reg_lr = LinearRegression()\n",
    "\n",
    "# Fit the model\n",
    "reg_lr.fit(X_train, y_train)\n",
    "\n",
    "# Predict on the test set\n",
    "y_pred_lr = reg_lr.predict(X_test)\n",
    "\n",
    "# Calculate the mean squared error\n",
    "mse_lr = mean_squared_error(y_test, y_pred_lr)\n",
    "\n",
    "# Perform cross-validation\n",
    "kfold = KFold(n_splits=10, shuffle=True, random_state=12345)\n",
    "cv_scores_lr = cross_val_score(reg_lr, X_train, y_train, cv=kfold, scoring='mean_squared_error')\n",
    "\n",
    "# Calculate the mean squared error\n",
    "mse = np.mean(cv_scores_lr)\n",
    "\n",
    "# Print the results\n",
    "print(\"Linear Regression cross-validation mean squared error: {:.3f}\".format(mse))\n",
    "print(\"Linear Regression mean squared error: {:.3f}\".format(mse_lr))\n"
   ]
  },
  {
   "attachments": {},
   "cell_type": "markdown",
   "metadata": {},
   "source": [
    "## Ridge regression "
   ]
  },
  {
   "cell_type": "code",
   "execution_count": null,
   "metadata": {},
   "outputs": [
    {
     "name": "stdout",
     "output_type": "stream",
     "text": [
      "Ridge Regression cross-validation mean squared error: 0.314\n",
      "Ridge Regression mean squared error: 0.286\n"
     ]
    }
   ],
   "source": [
    "# Import the necessary libraries\n",
    "from sklearn.linear_model import Ridge\n",
    "from sklearn.metrics import mean_squared_error\n",
    "\n",
    "# Initialize the model\n",
    "reg_ridge = Ridge(alpha=1.0)\n",
    "\n",
    "# Fit the model\n",
    "reg_ridge.fit(X_train, y_train)\n",
    "\n",
    "# Predict on the test set\n",
    "y_pred_ridge = reg_ridge.predict(X_test)\n",
    "\n",
    "# Calculate the mean squared error\n",
    "mse_ridge = mean_squared_error(y_test, y_pred_ridge)\n",
    "\n",
    "# Perform cross-validation\n",
    "kfold = KFold(n_splits=10, shuffle=True, random_state=12345)\n",
    "cv_scores_ridge = cross_val_score(reg_ridge, X_train, y_train, cv=kfold, scoring='mean_squared_error')\n",
    "\n",
    "# Calculate the mean squared error\n",
    "mse = -np.mean(cv_scores_ridge)\n",
    "\n",
    "# Print the results\n",
    "print(\"Ridge Regression cross-validation mean squared error: {:.3f}\".format(mse))\n",
    "print(\"Ridge Regression mean squared error: {:.3f}\".format(mse_ridge))"
   ]
  },
  {
   "cell_type": "markdown",
   "metadata": {},
   "source": [
    "## Neurol networks "
   ]
  },
  {
   "cell_type": "code",
   "execution_count": null,
   "metadata": {},
   "outputs": [
    {
     "name": "stderr",
     "output_type": "stream",
     "text": [
      "C:\\Users\\hp\\AppData\\Local\\Temp\\ipykernel_8028\\292890239.py:31: DeprecationWarning: KerasRegressor is deprecated, use Sci-Keras (https://github.com/adriangb/scikeras) instead. See https://www.adriangb.com/scikeras/stable/migration.html for help migrating.\n",
      "  keras_reg = KerasRegressor(build_fn=create_model, epochs=10, batch_size=32, verbose=0)\n"
     ]
    },
    {
     "name": "stdout",
     "output_type": "stream",
     "text": [
      "Neural Network cross-validation mean squared error: 0.654\n",
      "Test loss: 0.7024993896484375\n"
     ]
    }
   ],
   "source": [
    "from tensorflow import keras\n",
    "from sklearn.preprocessing import StandardScaler\n",
    "from keras.models import Sequential\n",
    "from keras.layers import Dense , Dropout\n",
    "from keras.wrappers.scikit_learn import KerasRegressor\n",
    "from sklearn.model_selection import cross_val_score, KFold\n",
    "\n",
    "# Scale the data\n",
    "scaler = StandardScaler()\n",
    "X_train = scaler.fit_transform(X_train)\n",
    "X_test = scaler.transform(X_test)\n",
    "\n",
    "# Define the neural network model\n",
    "def create_model():\n",
    "    model = Sequential()\n",
    "    model.add(Dense(64, input_shape=X_train.shape[1:], activation=\"relu\"))\n",
    "    Dropout(0.5)\n",
    "    model.add(Dense(16, activation=\"relu\"))\n",
    "    Dropout(0.5)\n",
    "    model.add(Dense(32, activation=\"relu\"))\n",
    "    Dropout(0.5)\n",
    "    model.add(Dense(32, activation=\"relu\"))\n",
    "    Dropout(0.5)\n",
    "    model.add(Dense(16, activation=\"relu\"))\n",
    "    Dropout(0.5)\n",
    "    model.add(Dense(1))\n",
    "    model.compile(loss=\"mean_squared_error\", optimizer=\"adam\")\n",
    "    return model\n",
    "\n",
    "# Create the KerasRegressor object\n",
    "keras_reg = KerasRegressor(build_fn=create_model, epochs=10, batch_size=32, verbose=0)\n",
    "\n",
    "# Perform cross-validation\n",
    "kfold = KFold(n_splits=10, shuffle=True, random_state=12345)\n",
    "cv_scores_nn = cross_val_score(keras_reg, X_train, y_train, cv=kfold, scoring='mean_squared_error')\n",
    "\n",
    "# Calculate the mean squared error\n",
    "mse = np.mean(cv_scores_nn)\n",
    "\n",
    "# Print the result\n",
    "print(\"Neural Network cross-validation mean squared error: {:.3f}\".format(mse))\n",
    "\n",
    "# Train the model\n",
    "history = keras_reg.fit(X_train, y_train, epochs=10, batch_size=32, )\n",
    "\n",
    "# Evaluate the model\n",
    "loss = keras_reg.score(X_test, y_test)\n",
    "print(\"Test loss:\", loss)\n"
   ]
  },
  {
   "cell_type": "markdown",
   "metadata": {},
   "source": [
    "## comparing models after cross-validation "
   ]
  },
  {
   "cell_type": "code",
   "execution_count": null,
   "metadata": {},
   "outputs": [
    {
     "data": {
      "image/png": "[encoded data removed]",
      "text/plain": [
       "<Figure size 432x288 with 1 Axes>"
      ]
     },
     "metadata": {
      "needs_background": "light"
     },
     "output_type": "display_data"
    }
   ],
   "source": [
    "# on calcule le mean , max , min pour chaque cv_score\n",
    "dt_median = np.median(cv_scores_dt)\n",
    "dt_min = np.min(cv_scores_dt)\n",
    "dt_max = np.max(cv_scores_dt)\n",
    "\n",
    "rf_median = np.median(cv_scores_rf)\n",
    "rf_min = np.min(cv_scores_rf)\n",
    "rf_max = np.max(cv_scores_rf)\n",
    "\n",
    "\n",
    "lin_median = np.median(cv_scores_lr)\n",
    "lin_min = np.min(cv_scores_lr)\n",
    "lin_max = np.max(cv_scores_lr)\n",
    "\n",
    "nn_median = np.median(cv_scores_nn)\n",
    "nn_min = np.min(cv_scores_nn)\n",
    "nn_max = np.max(cv_scores_nn)\n",
    "\n",
    "rr_median = np.median(cv_scores_ridge)\n",
    "rr_min = np.min(cv_scores_ridge)\n",
    "rr_max = np.max(cv_scores_ridge)\n",
    "\n",
    "# create a barplot of the results\n",
    "sns.barplot(\n",
    "    x=['Random Forest', 'Linear Regression', 'Neural Network', 'Ridge regression','Decision Tree'],\n",
    "    y=[rf_median, lin_median, nn_median, rr_median ,  dt_median],\n",
    "    yerr=np.array([        [rf_median - rf_min, lin_median - lin_min, nn_median - nn_min, rr_median - rr_min],\n",
    "        [rf_max - rf_median, lin_max - lin_median, nn_max - nn_median, rr_max - rr_median , dt_max - dt_median ]\n",
    "    ]),\n",
    "    capsize=10\n",
    ")\n",
    "plt.title('Comparison of Regression Models')\n",
    "plt.ylabel('Negative Mean Squared Error')\n",
    "plt.show()\n"
   ]
  },
  {
   "cell_type": "code",
   "execution_count": null,
   "metadata": {},
   "outputs": [],
   "source": [
    "sns.barplot(x=['Random Forest', 'Linear Regression', 'Neural Network', 'Ridge regression','Decision Tree'],\n",
    "            y = [mse_rf, mse_lr , mse , mse_ridge , mse_dt],\n",
    "              capsize=10\n",
    ")\n",
    "plt.title('Comparison of Regression Models on test set ')\n",
    "plt.ylabel('Mean Squared Error')\n",
    "plt.show()"
   ]
  }
 ],
 "metadata": {
  "kernelspec": {
   "display_name": "Python 3 (ipykernel)",
   "language": "python",
   "name": "python3"
  },
  "language_info": {
   "codemirror_mode": {
    "name": "ipython",
    "version": 3
   },
   "file_extension": ".py",
   "mimetype": "text/x-python",
   "name": "python",
   "nbconvert_exporter": "python",
   "pygments_lexer": "ipython3",
   "version": "3.9.13"
  }
 },
 "nbformat": 4,
 "nbformat_minor": 2
}
