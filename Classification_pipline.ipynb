{
 "cells": [
  {
   "cell_type": "code",
   "execution_count": 10,
   "metadata": {},
   "outputs": [],
   "source": [
    "import numpy as np\n",
    "import pandas as pd\n",
    "from sklearn.linear_model import LogisticRegression\n",
    "from sklearn.tree import DecisionTreeClassifier\n",
    "from sklearn.ensemble import RandomForestClassifier\n",
    "from sklearn.compose import ColumnTransformer\n",
    "from sklearn import model_selection\n",
    "from sklearn import datasets\n",
    "import seaborn as sns\n",
    "from sklearn.metrics import confusion_matrix\n",
    "import matplotlib.pyplot as plt "
   ]
  },
  {
   "attachments": {},
   "cell_type": "markdown",
   "metadata": {},
   "source": [
    "## handeling the dataset"
   ]
  },
  {
   "cell_type": "code",
   "execution_count": 4,
   "metadata": {},
   "outputs": [
    {
     "name": "stdout",
     "output_type": "stream",
     "text": [
      "Keys of Breast Cancer Dataset: dict_keys(['data', 'target', 'frame', 'target_names', 'DESCR', 'feature_names', 'filename', 'data_module'])\n"
     ]
    }
   ],
   "source": [
    "from sklearn.datasets import load_breast_cancer\n",
    "bcd = load_breast_cancer() # bcd stands for breast cancer dataset\n",
    "print(f\"Keys of Breast Cancer Dataset: {bcd.keys()}\")\n"
   ]
  },
  {
   "cell_type": "code",
   "execution_count": 5,
   "metadata": {},
   "outputs": [],
   "source": [
    "# X -> features, y -> label\n",
    "X = bcd.data\n",
    "y = bcd.target \n",
    "from sklearn.model_selection import train_test_split\n",
    "X_train, X_test, y_train, y_test = train_test_split(bcd.data, bcd.target, test_size=0.33)\n"
   ]
  },
  {
   "attachments": {},
   "cell_type": "markdown",
   "metadata": {},
   "source": [
    "## loading models "
   ]
  },
  {
   "attachments": {},
   "cell_type": "markdown",
   "metadata": {},
   "source": [
    "## DecisionTrees"
   ]
  },
  {
   "cell_type": "code",
   "execution_count": 6,
   "metadata": {},
   "outputs": [
    {
     "name": "stdout",
     "output_type": "stream",
     "text": [
      "Logistic Regression accuracy on test set: 0.920\n",
      "Logistic Regression cross-validation accuracy: 0.924\n"
     ]
    }
   ],
   "source": [
    "clg_DT = DecisionTreeClassifier(random_state=1)\n",
    "clg_DT.fit(X_train ,y_train)\n",
    "\n",
    "clg_DT.predict(X_test)\n",
    "\n",
    "accuracy_DT = clg_DT.score(X_test,y_test)\n",
    "kfold = model_selection.KFold(n_splits=5, shuffle=True, random_state=12345)\n",
    "cv_results = model_selection.cross_validate(clg_DT, X_train, y_train, cv=kfold , scoring = 'accuracy')\n",
    "accuracy_DT_cross = np.mean(cv_results['test_score'])\n",
    "\n",
    "# Print the results\n",
    "print(\"Decision Tree accuracy on test set: {:.3f}\".format(accuracy_DT))\n",
    "print(\"Decision Tree cross-validation accuracy: {:.3f}\".format(accuracy_DT_cross))\n",
    "\n",
    "\n"
   ]
  },
  {
   "attachments": {},
   "cell_type": "markdown",
   "metadata": {},
   "source": [
    "## CONFUSION MATRIX AND FEATURE IMPORTANCE FOR RANDOM FOREST \n"
   ]
  },
  {
   "cell_type": "code",
   "execution_count": 13,
   "metadata": {},
   "outputs": [
    {
     "data": {
      "image/png": "[encoded data removed]",
      "text/plain": [
       "<Figure size 432x288 with 1 Axes>"
      ]
     },
     "metadata": {
      "needs_background": "light"
     },
     "output_type": "display_data"
    }
   ],
   "source": [
    "importance_DT = clg_DT.feature_importances_\n",
    "# Create a barplot of feature importances\n",
    "sns.barplot(x=importance_DT, y=bcd.feature_names)\n",
    "\n",
    "# Add labels and title\n",
    "plt.xlabel('Feature Importance Score')\n",
    "plt.ylabel('Features')\n",
    "plt.title(\"Visualizing Important Features\")\n",
    "plt.show()"
   ]
  },
  {
   "attachments": {},
   "cell_type": "markdown",
   "metadata": {},
   "source": [
    "## LogisticRegression "
   ]
  },
  {
   "cell_type": "code",
   "execution_count": 15,
   "metadata": {},
   "outputs": [
    {
     "name": "stderr",
     "output_type": "stream",
     "text": [
      "C:\\Users\\hp\\AppData\\Local\\Packages\\PythonSoftwareFoundation.Python.3.9_qbz5n2kfra8p0\\LocalCache\\local-packages\\Python39\\site-packages\\sklearn\\linear_model\\_sag.py:350: ConvergenceWarning: The max_iter was reached which means the coef_ did not converge\n",
      "  warnings.warn(\n",
      "C:\\Users\\hp\\AppData\\Local\\Packages\\PythonSoftwareFoundation.Python.3.9_qbz5n2kfra8p0\\LocalCache\\local-packages\\Python39\\site-packages\\sklearn\\linear_model\\_sag.py:350: ConvergenceWarning: The max_iter was reached which means the coef_ did not converge\n",
      "  warnings.warn(\n",
      "C:\\Users\\hp\\AppData\\Local\\Packages\\PythonSoftwareFoundation.Python.3.9_qbz5n2kfra8p0\\LocalCache\\local-packages\\Python39\\site-packages\\sklearn\\linear_model\\_sag.py:350: ConvergenceWarning: The max_iter was reached which means the coef_ did not converge\n",
      "  warnings.warn(\n",
      "C:\\Users\\hp\\AppData\\Local\\Packages\\PythonSoftwareFoundation.Python.3.9_qbz5n2kfra8p0\\LocalCache\\local-packages\\Python39\\site-packages\\sklearn\\linear_model\\_sag.py:350: ConvergenceWarning: The max_iter was reached which means the coef_ did not converge\n",
      "  warnings.warn(\n"
     ]
    },
    {
     "name": "stdout",
     "output_type": "stream",
     "text": [
      "Logistic Regression accuracy on test set: 0.931\n",
      "Logistic Regression cross-validation accuracy: 0.911\n"
     ]
    },
    {
     "name": "stderr",
     "output_type": "stream",
     "text": [
      "C:\\Users\\hp\\AppData\\Local\\Packages\\PythonSoftwareFoundation.Python.3.9_qbz5n2kfra8p0\\LocalCache\\local-packages\\Python39\\site-packages\\sklearn\\linear_model\\_sag.py:350: ConvergenceWarning: The max_iter was reached which means the coef_ did not converge\n",
      "  warnings.warn(\n",
      "C:\\Users\\hp\\AppData\\Local\\Packages\\PythonSoftwareFoundation.Python.3.9_qbz5n2kfra8p0\\LocalCache\\local-packages\\Python39\\site-packages\\sklearn\\linear_model\\_sag.py:350: ConvergenceWarning: The max_iter was reached which means the coef_ did not converge\n",
      "  warnings.warn(\n"
     ]
    }
   ],
   "source": [
    "clg_lr = LogisticRegression(max_iter=1000, solver='saga')\n",
    "clg_lr.fit(X_train,y_train)\n",
    "clg_lr.predict(X_test)\n",
    "\n",
    "accuracy_lr = clg_lr.score(X_test,y_test)\n",
    "kfold = model_selection.KFold(n_splits=5, shuffle=True, random_state=12345)\n",
    "cv_results = model_selection.cross_validate(clg_lr, X_train, y_train, cv=kfold , scoring = 'accuracy')\n",
    "accuracy_lr_cross = np.mean(cv_results['test_score'])\n",
    "# Print the results\n",
    "print(\"Logistic Regression accuracy on test set: {:.3f}\".format(accuracy_lr))\n",
    "print(\"Logistic Regression cross-validation accuracy: {:.3f}\".format(accuracy_lr_cross))\n"
   ]
  },
  {
   "attachments": {},
   "cell_type": "markdown",
   "metadata": {},
   "source": [
    "## Randomforest"
   ]
  },
  {
   "cell_type": "code",
   "execution_count": 17,
   "metadata": {},
   "outputs": [
    {
     "name": "stdout",
     "output_type": "stream",
     "text": [
      "Random Forest accuracy on test set: 0.941\n",
      "Random Forest cross-validation accuracy: 0.961\n"
     ]
    }
   ],
   "source": [
    "clf_rf = RandomForestClassifier(n_estimators=100, random_state=12345)\n",
    "clf_rf.fit(X_train, y_train)\n",
    "y_pred_rf = clf_rf.predict(X_test)\n",
    "\n",
    "accuracy_rf = clf_rf.score(X_test, y_test)\n",
    "cv_results_rf = model_selection.cross_validate(clf_rf, X_train, y_train, cv=kfold, scoring='accuracy')\n",
    "accuracy_rf_cross = np.mean(cv_results_rf['test_score'])\n",
    "\n",
    "# Print the results\n",
    "print(\"Random Forest accuracy on test set: {:.3f}\".format(accuracy_rf))\n",
    "print(\"Random Forest cross-validation accuracy: {:.3f}\".format(accuracy_rf_cross))\n"
   ]
  },
  {
   "cell_type": "code",
   "execution_count": 18,
   "metadata": {},
   "outputs": [
    {
     "data": {
      "image/png": "[encoded data removed]",
      "text/plain": [
       "<Figure size 432x288 with 1 Axes>"
      ]
     },
     "metadata": {
      "needs_background": "light"
     },
     "output_type": "display_data"
    }
   ],
   "source": [
    "importance_rf = clf_rf.feature_importances_\n",
    "# Create a barplot of feature importances\n",
    "sns.barplot(x=importance_rf, y=bcd.feature_names)\n",
    "\n",
    "# Add labels and title\n",
    "plt.xlabel('Feature Importance Score')\n",
    "plt.ylabel('Features')\n",
    "plt.title(\"Visualizing Important Features\")\n",
    "plt.show()"
   ]
  },
  {
   "cell_type": "code",
   "execution_count": 23,
   "metadata": {},
   "outputs": [
    {
     "name": "stdout",
     "output_type": "stream",
     "text": [
      "Confusion Matrix - random forest :\n"
     ]
    },
    {
     "data": {
      "image/png": "[encoded data removed]",
      "text/plain": [
       "<Figure size 432x288 with 2 Axes>"
      ]
     },
     "metadata": {
      "needs_background": "light"
     },
     "output_type": "display_data"
    }
   ],
   "source": [
    "# Generate predictions on the test set\n",
    "y_pred = np.argmax(clf_rf.predict(X_test), axis=-1)\n",
    "\n",
    "# Generate confusion matrix\n",
    "cm_rf = confusion_matrix(y_test, y_pred_rf)\n",
    "\n",
    "# Print confusion matrix\n",
    "print(\"Confusion Matrix - random forest :\")\n",
    "sns.heatmap(cm_rf, annot=True, cmap='Blues', fmt='g')\n",
    "plt.xlabel('Predicted labels')\n",
    "plt.ylabel('True labels')\n",
    "plt.title('Confusion matrix - Random Forest')\n",
    "plt.show()"
   ]
  },
  {
   "attachments": {},
   "cell_type": "markdown",
   "metadata": {},
   "source": [
    "## SVM "
   ]
  },
  {
   "cell_type": "code",
   "execution_count": 19,
   "metadata": {},
   "outputs": [
    {
     "name": "stdout",
     "output_type": "stream",
     "text": [
      "SVM accuracy on test set: 0.926\n",
      "SVM cross-validation accuracy: 0.908\n"
     ]
    }
   ],
   "source": [
    "from sklearn import svm\n",
    "\n",
    "# Create SVM classifier\n",
    "svm_clf = svm.SVC()\n",
    "\n",
    "# Fit the classifier to the data\n",
    "svm_clf.fit(X_train, y_train)\n",
    "\n",
    "# Predict on the test set\n",
    "svm_preds = svm_clf.predict(X_test)\n",
    "\n",
    "# Calculate accuracy\n",
    "svm_accuracy = svm_clf.score(X_test, y_test)\n",
    "\n",
    "# Calculate cross-validation accuracy\n",
    "kfold = model_selection.KFold(n_splits=5, shuffle=True, random_state=12345)\n",
    "cv_results = model_selection.cross_validate(svm_clf, X_train, y_train, cv=kfold , scoring = 'accuracy')\n",
    "svm_accuracy_cross = np.mean(cv_results['test_score'])\n",
    "\n",
    "# Print results\n",
    "print(\"SVM accuracy on test set: {:.3f}\".format(svm_accuracy))\n",
    "print(\"SVM cross-validation accuracy: {:.3f}\".format(svm_accuracy_cross))\n"
   ]
  },
  {
   "cell_type": "code",
   "execution_count": null,
   "metadata": {},
   "outputs": [],
   "source": [
    "importance_svm = svm_clf.feature_importances_\n",
    "# Create a barplot of feature importances\n",
    "sns.barplot(x=importance_DT, y=bcd.feature_names)\n",
    "\n",
    "# Add labels and title\n",
    "plt.xlabel('Feature Importance Score')\n",
    "plt.ylabel('Features')\n",
    "plt.title(\"Visualizing Important Features\")\n",
    "plt.show()"
   ]
  },
  {
   "attachments": {},
   "cell_type": "markdown",
   "metadata": {},
   "source": [
    "## K nearest neighbors"
   ]
  },
  {
   "cell_type": "code",
   "execution_count": 9,
   "metadata": {},
   "outputs": [
    {
     "name": "stdout",
     "output_type": "stream",
     "text": [
      "KNN accuracy on test set: 0.910\n",
      "KNN cross-validation accuracy: 0.932\n"
     ]
    }
   ],
   "source": [
    "from sklearn.neighbors import KNeighborsClassifier\n",
    "\n",
    "# Create KNN classifier\n",
    "knn_clf = KNeighborsClassifier()\n",
    "\n",
    "# Fit the classifier to the data\n",
    "knn_clf.fit(X_train, y_train)\n",
    "\n",
    "# Predict on the test set\n",
    "knn_preds = knn_clf.predict(X_test)\n",
    "\n",
    "# Calculate accuracy\n",
    "knn_accuracy = knn_clf.score(X_test, y_test)\n",
    "\n",
    "# Calculate cross-validation accuracy\n",
    "kfold = model_selection.KFold(n_splits=5, shuffle=True, random_state=12345)\n",
    "cv_results = model_selection.cross_validate(knn_clf, X_train, y_train, cv=kfold , scoring = 'accuracy')\n",
    "knn_accuracy_cross = np.mean(cv_results['test_score'])\n",
    "\n",
    "# Print results\n",
    "print(\"KNN accuracy on test set: {:.3f}\".format(knn_accuracy))\n",
    "print(\"KNN cross-validation accuracy: {:.3f}\".format(knn_accuracy_cross))\n"
   ]
  },
  {
   "attachments": {},
   "cell_type": "markdown",
   "metadata": {},
   "source": [
    "## Neurol network"
   ]
  },
  {
   "cell_type": "code",
   "execution_count": 11,
   "metadata": {},
   "outputs": [
    {
     "name": "stdout",
     "output_type": "stream",
     "text": [
      "Epoch 1/2\n",
      "15/15 [==============================] - 1s 26ms/step - loss: 0.7625 - accuracy: 0.6484 - val_loss: 0.3504 - val_accuracy: 0.8772\n",
      "Epoch 2/2\n",
      "15/15 [==============================] - 0s 5ms/step - loss: 0.4569 - accuracy: 0.8088 - val_loss: 0.2625 - val_accuracy: 0.9386\n",
      "4/4 [==============================] - 0s 2ms/step - loss: 0.2625 - accuracy: 0.9386\n",
      "Neural Network accuracy on test set: 0.939\n"
     ]
    }
   ],
   "source": [
    "from sklearn.datasets import load_breast_cancer\n",
    "from sklearn.model_selection import train_test_split\n",
    "from sklearn.preprocessing import StandardScaler\n",
    "import numpy as np\n",
    "from keras.models import Sequential\n",
    "from keras.layers import Dense , Dropout\n",
    "from keras.utils import to_categorical\n",
    "\n",
    "# Load the breast cancer dataset\n",
    "data = load_breast_cancer()\n",
    "\n",
    "# Split the dataset into training and test sets\n",
    "X_train, X_test, y_train, y_test = train_test_split(data.data, data.target, test_size=0.2, random_state=12345)\n",
    "\n",
    "# Scale the input features\n",
    "scaler = StandardScaler()\n",
    "X_train = scaler.fit_transform(X_train)\n",
    "X_test = scaler.transform(X_test)\n",
    "\n",
    "# Convert the target variable to a one-hot encoded representation\n",
    "y_train = to_categorical(y_train)\n",
    "y_test = to_categorical(y_test)\n",
    "\n",
    "# Build the neural network model\n",
    "model = Sequential()\n",
    "model.add(Dense(64, input_dim=X_train.shape[1], activation='relu'))\n",
    "model.add(Dropout(0.5))\n",
    "model.add(Dense(32, activation='relu'))\n",
    "model.add(Dropout(0.5))\n",
    "model.add(Dense(2, activation='softmax'))\n",
    "model.compile(loss='categorical_crossentropy', optimizer='adam', metrics=['accuracy'])\n",
    "\n",
    "# Train the model\n",
    "history = model.fit(X_train, y_train, epochs=2, batch_size=32, validation_data=(X_test, y_test))\n",
    "\n",
    "# Evaluate the model\n",
    "loss, accuracy = model.evaluate(X_test, y_test)\n",
    "print(\"Neural Network accuracy on test set: {:.3f}\".format(accuracy))\n"
   ]
  },
  {
   "cell_type": "code",
   "execution_count": 12,
   "metadata": {},
   "outputs": [
    {
     "name": "stdout",
     "output_type": "stream",
     "text": [
      "4/4 [==============================] - 0s 2ms/step\n",
      "Confusion Matrix - Neural Network:\n",
      "[[38  4]\n",
      " [ 3 69]]\n"
     ]
    }
   ],
   "source": [
    "from sklearn.metrics import confusion_matrix\n",
    "\n",
    "# Generate predictions on the test set\n",
    "y_pred = np.argmax(model.predict(X_test), axis=-1)\n",
    "\n",
    "# Generate confusion matrix\n",
    "cm_nn = confusion_matrix(y_test.argmax(axis=1), y_pred)\n",
    "\n",
    "# Print confusion matrix\n",
    "print(\"Confusion Matrix - Neural Network:\")\n",
    "print(cm_nn)"
   ]
  }
 ],
 "metadata": {
  "kernelspec": {
   "display_name": "Python 3",
   "language": "python",
   "name": "python3"
  },
  "language_info": {
   "codemirror_mode": {
    "name": "ipython",
    "version": 3
   },
   "file_extension": ".py",
   "mimetype": "text/x-python",
   "name": "python",
   "nbconvert_exporter": "python",
   "pygments_lexer": "ipython3",
   "version": "3.9.13"
  },
  "orig_nbformat": 4
 },
 "nbformat": 4,
 "nbformat_minor": 2
}
